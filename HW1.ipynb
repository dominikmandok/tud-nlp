{
 "cells": [
  {
   "cell_type": "markdown",
   "metadata": {
    "colab_type": "text",
    "id": "view-in-github"
   },
   "source": [
    "<a href=\"https://colab.research.google.com/github/dominikmandok/tud-nlp/blob/main/HW1.ipynb\" target=\"_parent\"><img src=\"https://colab.research.google.com/assets/colab-badge.svg\" alt=\"Open In Colab\"/></a>"
   ]
  },
  {
   "cell_type": "code",
   "execution_count": 1,
   "metadata": {
    "colab": {
     "base_uri": "https://localhost:8080/"
    },
    "id": "j7PKqbDr3K3Z",
    "outputId": "9f5fd7f8-02e9-46dd-bb6c-206bc9f9bff2"
   },
   "outputs": [
    {
     "name": "stdout",
     "output_type": "stream",
     "text": [
      "Collecting git+https://github.com/kwang2049/nlp4web-codebase.git\n",
      "  Cloning https://github.com/kwang2049/nlp4web-codebase.git to /tmp/pip-req-build-1ya902m_\n",
      "  Running command git clone --filter=blob:none --quiet https://github.com/kwang2049/nlp4web-codebase.git /tmp/pip-req-build-1ya902m_\n",
      "  Resolved https://github.com/kwang2049/nlp4web-codebase.git to commit 83f9afbbf7e372c116fdd04997a96449007f861f\n",
      "  Preparing metadata (setup.py) ... \u001b[?25ldone\n",
      "\u001b[?25hRequirement already satisfied: datasets==3.0.1 in ./lib/python3.10/site-packages (from nlp4web-codebase==0.0.0) (3.0.1)\n",
      "Requirement already satisfied: joblib==1.4.2 in ./lib/python3.10/site-packages (from nlp4web-codebase==0.0.0) (1.4.2)\n",
      "Requirement already satisfied: nltk==3.8.1 in ./lib/python3.10/site-packages (from nlp4web-codebase==0.0.0) (3.8.1)\n",
      "Requirement already satisfied: numpy==1.26.4 in ./lib/python3.10/site-packages (from nlp4web-codebase==0.0.0) (1.26.4)\n",
      "Requirement already satisfied: pandas==2.2.2 in ./lib/python3.10/site-packages (from nlp4web-codebase==0.0.0) (2.2.2)\n",
      "Requirement already satisfied: pytrec_eval==0.5 in ./lib/python3.10/site-packages (from nlp4web-codebase==0.0.0) (0.5)\n",
      "Requirement already satisfied: scipy==1.13.1 in ./lib/python3.10/site-packages (from nlp4web-codebase==0.0.0) (1.13.1)\n",
      "Requirement already satisfied: tqdm==4.66.5 in ./lib/python3.10/site-packages (from nlp4web-codebase==0.0.0) (4.66.5)\n",
      "Requirement already satisfied: ujson==5.10.0 in ./lib/python3.10/site-packages (from nlp4web-codebase==0.0.0) (5.10.0)\n",
      "Requirement already satisfied: multiprocess in ./lib/python3.10/site-packages (from datasets==3.0.1->nlp4web-codebase==0.0.0) (0.70.16)\n",
      "Requirement already satisfied: aiohttp in ./lib/python3.10/site-packages (from datasets==3.0.1->nlp4web-codebase==0.0.0) (3.10.10)\n",
      "Requirement already satisfied: requests>=2.32.2 in ./lib/python3.10/site-packages (from datasets==3.0.1->nlp4web-codebase==0.0.0) (2.32.3)\n",
      "Requirement already satisfied: xxhash in ./lib/python3.10/site-packages (from datasets==3.0.1->nlp4web-codebase==0.0.0) (3.5.0)\n",
      "Requirement already satisfied: filelock in ./lib/python3.10/site-packages (from datasets==3.0.1->nlp4web-codebase==0.0.0) (3.16.1)\n",
      "Requirement already satisfied: packaging in ./lib/python3.10/site-packages (from datasets==3.0.1->nlp4web-codebase==0.0.0) (24.1)\n",
      "Requirement already satisfied: pyyaml>=5.1 in ./lib/python3.10/site-packages (from datasets==3.0.1->nlp4web-codebase==0.0.0) (6.0.2)\n",
      "Requirement already satisfied: pyarrow>=15.0.0 in ./lib/python3.10/site-packages (from datasets==3.0.1->nlp4web-codebase==0.0.0) (18.0.0)\n",
      "Requirement already satisfied: fsspec[http]<=2024.6.1,>=2023.1.0 in ./lib/python3.10/site-packages (from datasets==3.0.1->nlp4web-codebase==0.0.0) (2024.6.1)\n",
      "Requirement already satisfied: dill<0.3.9,>=0.3.0 in ./lib/python3.10/site-packages (from datasets==3.0.1->nlp4web-codebase==0.0.0) (0.3.8)\n",
      "Requirement already satisfied: huggingface-hub>=0.22.0 in ./lib/python3.10/site-packages (from datasets==3.0.1->nlp4web-codebase==0.0.0) (0.26.2)\n",
      "Requirement already satisfied: click in ./lib/python3.10/site-packages (from nltk==3.8.1->nlp4web-codebase==0.0.0) (8.1.7)\n",
      "Requirement already satisfied: regex>=2021.8.3 in ./lib/python3.10/site-packages (from nltk==3.8.1->nlp4web-codebase==0.0.0) (2024.9.11)\n",
      "Requirement already satisfied: python-dateutil>=2.8.2 in ./lib/python3.10/site-packages (from pandas==2.2.2->nlp4web-codebase==0.0.0) (2.9.0.post0)\n",
      "Requirement already satisfied: pytz>=2020.1 in ./lib/python3.10/site-packages (from pandas==2.2.2->nlp4web-codebase==0.0.0) (2024.2)\n",
      "Requirement already satisfied: tzdata>=2022.7 in ./lib/python3.10/site-packages (from pandas==2.2.2->nlp4web-codebase==0.0.0) (2024.2)\n",
      "Requirement already satisfied: yarl<2.0,>=1.12.0 in ./lib/python3.10/site-packages (from aiohttp->datasets==3.0.1->nlp4web-codebase==0.0.0) (1.17.1)\n",
      "Requirement already satisfied: async-timeout<5.0,>=4.0 in ./lib/python3.10/site-packages (from aiohttp->datasets==3.0.1->nlp4web-codebase==0.0.0) (4.0.3)\n",
      "Requirement already satisfied: aiohappyeyeballs>=2.3.0 in ./lib/python3.10/site-packages (from aiohttp->datasets==3.0.1->nlp4web-codebase==0.0.0) (2.4.3)\n",
      "Requirement already satisfied: aiosignal>=1.1.2 in ./lib/python3.10/site-packages (from aiohttp->datasets==3.0.1->nlp4web-codebase==0.0.0) (1.3.1)\n",
      "Requirement already satisfied: attrs>=17.3.0 in ./lib/python3.10/site-packages (from aiohttp->datasets==3.0.1->nlp4web-codebase==0.0.0) (24.2.0)\n",
      "Requirement already satisfied: frozenlist>=1.1.1 in ./lib/python3.10/site-packages (from aiohttp->datasets==3.0.1->nlp4web-codebase==0.0.0) (1.5.0)\n",
      "Requirement already satisfied: multidict<7.0,>=4.5 in ./lib/python3.10/site-packages (from aiohttp->datasets==3.0.1->nlp4web-codebase==0.0.0) (6.1.0)\n",
      "Requirement already satisfied: typing-extensions>=3.7.4.3 in ./lib/python3.10/site-packages (from huggingface-hub>=0.22.0->datasets==3.0.1->nlp4web-codebase==0.0.0) (4.12.2)\n",
      "Requirement already satisfied: six>=1.5 in ./lib/python3.10/site-packages (from python-dateutil>=2.8.2->pandas==2.2.2->nlp4web-codebase==0.0.0) (1.16.0)\n",
      "Requirement already satisfied: urllib3<3,>=1.21.1 in ./lib/python3.10/site-packages (from requests>=2.32.2->datasets==3.0.1->nlp4web-codebase==0.0.0) (2.2.3)\n",
      "Requirement already satisfied: charset-normalizer<4,>=2 in ./lib/python3.10/site-packages (from requests>=2.32.2->datasets==3.0.1->nlp4web-codebase==0.0.0) (3.4.0)\n",
      "Requirement already satisfied: certifi>=2017.4.17 in ./lib/python3.10/site-packages (from requests>=2.32.2->datasets==3.0.1->nlp4web-codebase==0.0.0) (2024.8.30)\n",
      "Requirement already satisfied: idna<4,>=2.5 in ./lib/python3.10/site-packages (from requests>=2.32.2->datasets==3.0.1->nlp4web-codebase==0.0.0) (3.10)\n",
      "Requirement already satisfied: propcache>=0.2.0 in ./lib/python3.10/site-packages (from yarl<2.0,>=1.12.0->aiohttp->datasets==3.0.1->nlp4web-codebase==0.0.0) (0.2.0)\n",
      "fatal: destination path 'nlp4web-codebase' already exists and is not an empty directory.\n",
      "Requirement already satisfied: gradio in ./lib/python3.10/site-packages (5.5.0)\n",
      "Requirement already satisfied: orjson~=3.0 in ./lib/python3.10/site-packages (from gradio) (3.10.11)\n",
      "Requirement already satisfied: huggingface-hub>=0.25.1 in ./lib/python3.10/site-packages (from gradio) (0.26.2)\n",
      "Requirement already satisfied: markupsafe~=2.0 in ./lib/python3.10/site-packages (from gradio) (2.1.5)\n",
      "Requirement already satisfied: jinja2<4.0 in ./lib/python3.10/site-packages (from gradio) (3.1.4)\n",
      "Requirement already satisfied: uvicorn>=0.14.0 in ./lib/python3.10/site-packages (from gradio) (0.32.0)\n",
      "Requirement already satisfied: gradio-client==1.4.2 in ./lib/python3.10/site-packages (from gradio) (1.4.2)\n",
      "Requirement already satisfied: safehttpx<1.0,>=0.1.1 in ./lib/python3.10/site-packages (from gradio) (0.1.1)\n",
      "Requirement already satisfied: anyio<5.0,>=3.0 in ./lib/python3.10/site-packages (from gradio) (4.6.2.post1)\n",
      "Requirement already satisfied: ruff>=0.2.2 in ./lib/python3.10/site-packages (from gradio) (0.7.2)\n",
      "Requirement already satisfied: starlette<1.0,>=0.40.0 in ./lib/python3.10/site-packages (from gradio) (0.41.2)\n",
      "Requirement already satisfied: numpy<3.0,>=1.0 in ./lib/python3.10/site-packages (from gradio) (1.26.4)\n",
      "Requirement already satisfied: typer<1.0,>=0.12 in ./lib/python3.10/site-packages (from gradio) (0.12.5)\n",
      "Requirement already satisfied: aiofiles<24.0,>=22.0 in ./lib/python3.10/site-packages (from gradio) (23.2.1)\n",
      "Requirement already satisfied: httpx>=0.24.1 in ./lib/python3.10/site-packages (from gradio) (0.27.2)\n",
      "Requirement already satisfied: tomlkit==0.12.0 in ./lib/python3.10/site-packages (from gradio) (0.12.0)\n",
      "Requirement already satisfied: pillow<12.0,>=8.0 in ./lib/python3.10/site-packages (from gradio) (11.0.0)\n",
      "Requirement already satisfied: pydantic>=2.0 in ./lib/python3.10/site-packages (from gradio) (2.9.2)\n",
      "Requirement already satisfied: packaging in ./lib/python3.10/site-packages (from gradio) (24.1)\n",
      "Requirement already satisfied: python-multipart==0.0.12 in ./lib/python3.10/site-packages (from gradio) (0.0.12)\n",
      "Requirement already satisfied: ffmpy in ./lib/python3.10/site-packages (from gradio) (0.4.0)\n",
      "Requirement already satisfied: pandas<3.0,>=1.0 in ./lib/python3.10/site-packages (from gradio) (2.2.2)\n",
      "Requirement already satisfied: typing-extensions~=4.0 in ./lib/python3.10/site-packages (from gradio) (4.12.2)\n",
      "Requirement already satisfied: semantic-version~=2.0 in ./lib/python3.10/site-packages (from gradio) (2.10.0)\n",
      "Requirement already satisfied: fastapi<1.0,>=0.115.2 in ./lib/python3.10/site-packages (from gradio) (0.115.4)\n",
      "Requirement already satisfied: pydub in ./lib/python3.10/site-packages (from gradio) (0.25.1)\n",
      "Requirement already satisfied: pyyaml<7.0,>=5.0 in ./lib/python3.10/site-packages (from gradio) (6.0.2)\n",
      "Requirement already satisfied: websockets<13.0,>=10.0 in ./lib/python3.10/site-packages (from gradio-client==1.4.2->gradio) (12.0)\n",
      "Requirement already satisfied: fsspec in ./lib/python3.10/site-packages (from gradio-client==1.4.2->gradio) (2024.6.1)\n",
      "Requirement already satisfied: sniffio>=1.1 in ./lib/python3.10/site-packages (from anyio<5.0,>=3.0->gradio) (1.3.1)\n",
      "Requirement already satisfied: exceptiongroup>=1.0.2 in ./lib/python3.10/site-packages (from anyio<5.0,>=3.0->gradio) (1.2.2)\n",
      "Requirement already satisfied: idna>=2.8 in ./lib/python3.10/site-packages (from anyio<5.0,>=3.0->gradio) (3.10)\n",
      "Requirement already satisfied: httpcore==1.* in ./lib/python3.10/site-packages (from httpx>=0.24.1->gradio) (1.0.6)\n",
      "Requirement already satisfied: certifi in ./lib/python3.10/site-packages (from httpx>=0.24.1->gradio) (2024.8.30)\n",
      "Requirement already satisfied: h11<0.15,>=0.13 in ./lib/python3.10/site-packages (from httpcore==1.*->httpx>=0.24.1->gradio) (0.14.0)\n",
      "Requirement already satisfied: filelock in ./lib/python3.10/site-packages (from huggingface-hub>=0.25.1->gradio) (3.16.1)\n",
      "Requirement already satisfied: tqdm>=4.42.1 in ./lib/python3.10/site-packages (from huggingface-hub>=0.25.1->gradio) (4.66.5)\n",
      "Requirement already satisfied: requests in ./lib/python3.10/site-packages (from huggingface-hub>=0.25.1->gradio) (2.32.3)\n",
      "Requirement already satisfied: python-dateutil>=2.8.2 in ./lib/python3.10/site-packages (from pandas<3.0,>=1.0->gradio) (2.9.0.post0)\n",
      "Requirement already satisfied: pytz>=2020.1 in ./lib/python3.10/site-packages (from pandas<3.0,>=1.0->gradio) (2024.2)\n",
      "Requirement already satisfied: tzdata>=2022.7 in ./lib/python3.10/site-packages (from pandas<3.0,>=1.0->gradio) (2024.2)\n",
      "Requirement already satisfied: pydantic-core==2.23.4 in ./lib/python3.10/site-packages (from pydantic>=2.0->gradio) (2.23.4)\n",
      "Requirement already satisfied: annotated-types>=0.6.0 in ./lib/python3.10/site-packages (from pydantic>=2.0->gradio) (0.7.0)\n",
      "Requirement already satisfied: shellingham>=1.3.0 in ./lib/python3.10/site-packages (from typer<1.0,>=0.12->gradio) (1.5.4)\n",
      "Requirement already satisfied: rich>=10.11.0 in ./lib/python3.10/site-packages (from typer<1.0,>=0.12->gradio) (13.9.4)\n",
      "Requirement already satisfied: click>=8.0.0 in ./lib/python3.10/site-packages (from typer<1.0,>=0.12->gradio) (8.1.7)\n",
      "Requirement already satisfied: six>=1.5 in ./lib/python3.10/site-packages (from python-dateutil>=2.8.2->pandas<3.0,>=1.0->gradio) (1.16.0)\n",
      "Requirement already satisfied: markdown-it-py>=2.2.0 in ./lib/python3.10/site-packages (from rich>=10.11.0->typer<1.0,>=0.12->gradio) (3.0.0)\n",
      "Requirement already satisfied: pygments<3.0.0,>=2.13.0 in ./lib/python3.10/site-packages (from rich>=10.11.0->typer<1.0,>=0.12->gradio) (2.18.0)\n",
      "Requirement already satisfied: urllib3<3,>=1.21.1 in ./lib/python3.10/site-packages (from requests->huggingface-hub>=0.25.1->gradio) (2.2.3)\n",
      "Requirement already satisfied: charset-normalizer<4,>=2 in ./lib/python3.10/site-packages (from requests->huggingface-hub>=0.25.1->gradio) (3.4.0)\n",
      "Requirement already satisfied: mdurl~=0.1 in ./lib/python3.10/site-packages (from markdown-it-py>=2.2.0->rich>=10.11.0->typer<1.0,>=0.12->gradio) (0.1.2)\n"
     ]
    }
   ],
   "source": [
    "!pip install git+https://github.com/kwang2049/nlp4web-codebase.git\n",
    "!git clone https://github.com/kwang2049/nlp4web-codebase.git  # You can always check the content of this simple codebase at any time\n",
    "!pip install gradio  # we also need this additionally for this homework"
   ]
  },
  {
   "cell_type": "markdown",
   "metadata": {
    "id": "hH6-uB8T4zAP"
   },
   "source": [
    "## Pre-requisite code"
   ]
  },
  {
   "cell_type": "markdown",
   "metadata": {
    "id": "M9Km4AcLVC4A"
   },
   "source": [
    "The code within this section will be used in the tasks. Please do not change these code lines."
   ]
  },
  {
   "cell_type": "code",
   "execution_count": 4,
   "metadata": {
    "colab": {
     "base_uri": "https://localhost:8080/"
    },
    "id": "FqnuoZqh4yfk",
    "outputId": "f8f6b636-ece1-48b2-f53a-df4e8b19885d"
   },
   "outputs": [
    {
     "name": "stderr",
     "output_type": "stream",
     "text": [
      "Counting: 100%|███████████████████████████████████████████████████████████████████████████████████████████████████████████████████████████████████████████████████████████████████████████| 12160/12160 [00:00<00:00, 23621.31it/s]\n"
     ]
    }
   ],
   "source": [
    "from dataclasses import dataclass\n",
    "import pickle\n",
    "import os\n",
    "from typing import Iterable, Callable, List, Dict, Optional, Type, TypeVar\n",
    "from nlp4web_codebase.ir.data_loaders.dm import Document\n",
    "from collections import Counter\n",
    "import tqdm\n",
    "import re\n",
    "import nltk\n",
    "nltk.download(\"stopwords\", quiet=True)\n",
    "from nltk.corpus import stopwords as nltk_stopwords\n",
    "\n",
    "LANGUAGE = \"english\"\n",
    "word_splitter = re.compile(r\"(?u)\\b\\w\\w+\\b\").findall\n",
    "stopwords = set(nltk_stopwords.words(LANGUAGE))\n",
    "\n",
    "\n",
    "def word_splitting(text: str) -> List[str]:\n",
    "    return word_splitter(text.lower())\n",
    "\n",
    "def lemmatization(words: List[str]) -> List[str]:\n",
    "    return words  # We ignore lemmatization here for simplicity\n",
    "\n",
    "def simple_tokenize(text: str) -> List[str]:\n",
    "    words = word_splitting(text)\n",
    "    tokenized = list(filter(lambda w: w not in stopwords, words))\n",
    "    tokenized = lemmatization(tokenized)\n",
    "    return tokenized\n",
    "\n",
    "T = TypeVar(\"T\", bound=\"InvertedIndex\")\n",
    "\n",
    "@dataclass\n",
    "class PostingList:\n",
    "    term: str  # The term\n",
    "    docid_postings: List[int]  # docid_postings[i] means the docid (int) of the i-th associated posting\n",
    "    tweight_postings: List[float]  # tweight_postings[i] means the term weight (float) of the i-th associated posting\n",
    "\n",
    "\n",
    "@dataclass\n",
    "class InvertedIndex:\n",
    "    posting_lists: List[PostingList]  # docid -> posting_list\n",
    "    vocab: Dict[str, int]\n",
    "    cid2docid: Dict[str, int]  # collection_id -> docid\n",
    "    collection_ids: List[str]  # docid -> collection_id\n",
    "    doc_texts: Optional[List[str]] = None  # docid -> document text\n",
    "\n",
    "    def save(self, output_dir: str) -> None:\n",
    "        os.makedirs(output_dir, exist_ok=True)\n",
    "        with open(os.path.join(output_dir, \"index.pkl\"), \"wb\") as f:\n",
    "            pickle.dump(self, f)\n",
    "\n",
    "    @classmethod\n",
    "    def from_saved(cls: Type[T], saved_dir: str) -> T:\n",
    "        index = cls(\n",
    "            posting_lists=[], vocab={}, cid2docid={}, collection_ids=[], doc_texts=None\n",
    "        )\n",
    "        with open(os.path.join(saved_dir, \"index.pkl\"), \"rb\") as f:\n",
    "            index = pickle.load(f)\n",
    "        return index\n",
    "\n",
    "\n",
    "# The output of the counting function:\n",
    "@dataclass\n",
    "class Counting:\n",
    "    posting_lists: List[PostingList]\n",
    "    vocab: Dict[str, int]\n",
    "    cid2docid: Dict[str, int]\n",
    "    collection_ids: List[str]\n",
    "    dfs: List[int]  # tid -> df\n",
    "    dls: List[int]  # docid -> doc length\n",
    "    avgdl: float\n",
    "    nterms: int\n",
    "    doc_texts: Optional[List[str]] = None\n",
    "\n",
    "def run_counting(\n",
    "    documents: Iterable[Document],\n",
    "    tokenize_fn: Callable[[str], List[str]] = simple_tokenize,\n",
    "    store_raw: bool = True,  # store the document text in doc_texts\n",
    "    ndocs: Optional[int] = None,\n",
    "    show_progress_bar: bool = True,\n",
    ") -> Counting:\n",
    "    \"\"\"Counting TFs, DFs, doc_lengths, etc.\"\"\"\n",
    "    posting_lists: List[PostingList] = []\n",
    "    vocab: Dict[str, int] = {}\n",
    "    cid2docid: Dict[str, int] = {}\n",
    "    collection_ids: List[str] = []\n",
    "    dfs: List[int] = []  # tid -> df\n",
    "    dls: List[int] = []  # docid -> doc length\n",
    "    nterms: int = 0\n",
    "    doc_texts: Optional[List[str]] = []\n",
    "    for doc in tqdm.tqdm(\n",
    "        documents,\n",
    "        desc=\"Counting\",\n",
    "        total=ndocs,\n",
    "        disable=not show_progress_bar,\n",
    "    ):\n",
    "        if doc.collection_id in cid2docid:\n",
    "            continue\n",
    "        collection_ids.append(doc.collection_id)\n",
    "        docid = cid2docid.setdefault(doc.collection_id, len(cid2docid))\n",
    "        toks = tokenize_fn(doc.text)\n",
    "        tok2tf = Counter(toks)\n",
    "        dls.append(sum(tok2tf.values()))\n",
    "        for tok, tf in tok2tf.items():\n",
    "            nterms += tf\n",
    "            tid = vocab.get(tok, None)\n",
    "            if tid is None:\n",
    "                posting_lists.append(\n",
    "                    PostingList(term=tok, docid_postings=[], tweight_postings=[])\n",
    "                )\n",
    "                tid = vocab.setdefault(tok, len(vocab))\n",
    "            posting_lists[tid].docid_postings.append(docid)\n",
    "            posting_lists[tid].tweight_postings.append(tf)\n",
    "            if tid < len(dfs):\n",
    "                dfs[tid] += 1\n",
    "            else:\n",
    "                dfs.append(0)\n",
    "        if store_raw:\n",
    "            doc_texts.append(doc.text)\n",
    "        else:\n",
    "            doc_texts = None\n",
    "    return Counting(\n",
    "        posting_lists=posting_lists,\n",
    "        vocab=vocab,\n",
    "        cid2docid=cid2docid,\n",
    "        collection_ids=collection_ids,\n",
    "        dfs=dfs,\n",
    "        dls=dls,\n",
    "        avgdl=sum(dls) / len(dls),\n",
    "        nterms=nterms,\n",
    "        doc_texts=doc_texts,\n",
    "    )\n",
    "\n",
    "from nlp4web_codebase.ir.data_loaders.sciq import load_sciq\n",
    "sciq = load_sciq()\n",
    "counting = run_counting(documents=iter(sciq.corpus), ndocs=len(sciq.corpus))"
   ]
  },
  {
   "cell_type": "code",
   "execution_count": 6,
   "metadata": {
    "colab": {
     "base_uri": "https://localhost:8080/"
    },
    "id": "cSMCdmPi5vnF",
    "outputId": "e3e70ea8-8684-4e4d-9654-960d01a79924"
   },
   "outputs": [
    {
     "name": "stderr",
     "output_type": "stream",
     "text": [
      "Counting: 100%|███████████████████████████████████████████████████████████████████████████████████████████████████████████████████████████████████████████████████████████████████████████| 12160/12160 [00:00<00:00, 22464.45it/s]\n",
      "Regularizing TFs: 100%|██████████████████████████████████████████████████████████████████████████████████████████████████████████████████████████████████████████████████████████████████| 22683/22683 [00:00<00:00, 185541.55it/s]"
     ]
    },
    {
     "name": "stdout",
     "output_type": "stream",
     "text": [
      "HW1.ipynb  bin\tinclude  lib64\t\t   output      share\n",
      "README.md  etc\tlib\t nlp4web-codebase  pyvenv.cfg\n"
     ]
    },
    {
     "name": "stderr",
     "output_type": "stream",
     "text": [
      "\n"
     ]
    }
   ],
   "source": [
    "from __future__ import annotations\n",
    "from dataclasses import asdict, dataclass\n",
    "import math\n",
    "import os\n",
    "from typing import Iterable, List, Optional, Type\n",
    "import tqdm\n",
    "from nlp4web_codebase.ir.data_loaders.dm import Document\n",
    "\n",
    "\n",
    "@dataclass\n",
    "class BM25Index(InvertedIndex):\n",
    "\n",
    "    @staticmethod\n",
    "    def tokenize(text: str) -> List[str]:\n",
    "        return simple_tokenize(text)\n",
    "\n",
    "    @staticmethod\n",
    "    def cache_term_weights(\n",
    "        posting_lists: List[PostingList],\n",
    "        total_docs: int,\n",
    "        avgdl: float,\n",
    "        dfs: List[int],\n",
    "        dls: List[int],\n",
    "        k1: float,\n",
    "        b: float,\n",
    "    ) -> None:\n",
    "        \"\"\"Compute term weights and caching\"\"\"\n",
    "\n",
    "        N = total_docs\n",
    "        for tid, posting_list in enumerate(\n",
    "            tqdm.tqdm(posting_lists, desc=\"Regularizing TFs\")\n",
    "        ):\n",
    "            idf = BM25Index.calc_idf(df=dfs[tid], N=N)\n",
    "            for i in range(len(posting_list.docid_postings)):\n",
    "                docid = posting_list.docid_postings[i]\n",
    "                tf = posting_list.tweight_postings[i]\n",
    "                dl = dls[docid]\n",
    "                regularized_tf = BM25Index.calc_regularized_tf(\n",
    "                    tf=tf, dl=dl, avgdl=avgdl, k1=k1, b=b\n",
    "                )\n",
    "                posting_list.tweight_postings[i] = regularized_tf * idf\n",
    "\n",
    "    @staticmethod\n",
    "    def calc_regularized_tf(\n",
    "        tf: int, dl: float, avgdl: float, k1: float, b: float\n",
    "    ) -> float:\n",
    "        return tf / (tf + k1 * (1 - b + b * dl / avgdl))\n",
    "\n",
    "    @staticmethod\n",
    "    def calc_idf(df: int, N: int):\n",
    "        return math.log(1 + (N - df + 0.5) / (df + 0.5))\n",
    "\n",
    "    @classmethod\n",
    "    def build_from_documents(\n",
    "        cls: Type[BM25Index],\n",
    "        documents: Iterable[Document],\n",
    "        store_raw: bool = True,\n",
    "        output_dir: Optional[str] = None,\n",
    "        ndocs: Optional[int] = None,\n",
    "        show_progress_bar: bool = True,\n",
    "        k1: float = 0.9,\n",
    "        b: float = 0.4,\n",
    "    ) -> BM25Index:\n",
    "        # Counting TFs, DFs, doc_lengths, etc.:\n",
    "        counting = run_counting(\n",
    "            documents=documents,\n",
    "            tokenize_fn=BM25Index.tokenize,\n",
    "            store_raw=store_raw,\n",
    "            ndocs=ndocs,\n",
    "            show_progress_bar=show_progress_bar,\n",
    "        )\n",
    "\n",
    "        # Compute term weights and caching:\n",
    "        posting_lists = counting.posting_lists\n",
    "        total_docs = len(counting.cid2docid)\n",
    "        BM25Index.cache_term_weights(\n",
    "            posting_lists=posting_lists,\n",
    "            total_docs=total_docs,\n",
    "            avgdl=counting.avgdl,\n",
    "            dfs=counting.dfs,\n",
    "            dls=counting.dls,\n",
    "            k1=k1,\n",
    "            b=b,\n",
    "        )\n",
    "\n",
    "        # Assembly and save:\n",
    "        index = BM25Index(\n",
    "            posting_lists=posting_lists,\n",
    "            vocab=counting.vocab,\n",
    "            cid2docid=counting.cid2docid,\n",
    "            collection_ids=counting.collection_ids,\n",
    "            doc_texts=counting.doc_texts,\n",
    "        )\n",
    "        return index\n",
    "\n",
    "bm25_index = BM25Index.build_from_documents(\n",
    "    documents=iter(sciq.corpus),\n",
    "    ndocs=12160,\n",
    "    show_progress_bar=True,\n",
    ")\n",
    "bm25_index.save(\"output/bm25_index\")\n",
    "!ls"
   ]
  },
  {
   "cell_type": "code",
   "execution_count": 7,
   "metadata": {
    "colab": {
     "base_uri": "https://localhost:8080/"
    },
    "id": "y7JfKdE_534_",
    "outputId": "a03ec157-f070-4d34-ffb1-8d2696dc86bf"
   },
   "outputs": [
    {
     "data": {
      "text/plain": [
       "{'train-3853': 18.39371996097932,\n",
       " 'test-362': 18.002600808728054,\n",
       " 'train-1691': 14.98319943729318,\n",
       " 'train-5648': 14.225622632392252,\n",
       " 'train-7688': 14.141510761865732,\n",
       " 'train-10422': 13.788370394753311,\n",
       " 'train-7781': 13.678582437573862,\n",
       " 'train-6098': 13.616357245339572,\n",
       " 'train-10113': 11.547290474329134,\n",
       " 'train-11549': 11.53109468073725}"
      ]
     },
     "execution_count": 7,
     "metadata": {},
     "output_type": "execute_result"
    }
   ],
   "source": [
    "from nlp4web_codebase.ir.models import BaseRetriever\n",
    "from typing import Type\n",
    "from abc import abstractmethod\n",
    "\n",
    "\n",
    "class BaseInvertedIndexRetriever(BaseRetriever):\n",
    "\n",
    "    @property\n",
    "    @abstractmethod\n",
    "    def index_class(self) -> Type[InvertedIndex]:\n",
    "        pass\n",
    "\n",
    "    def __init__(self, index_dir: str) -> None:\n",
    "        self.index = self.index_class.from_saved(index_dir)\n",
    "\n",
    "    def get_term_weights(self, query: str, cid: str) -> Dict[str, float]:\n",
    "        toks = self.index.tokenize(query)\n",
    "        target_docid = self.index.cid2docid[cid]\n",
    "        term_weights = {}\n",
    "        for tok in toks:\n",
    "            if tok not in self.index.vocab:\n",
    "                continue\n",
    "            tid = self.index.vocab[tok]\n",
    "            posting_list = self.index.posting_lists[tid]\n",
    "            for docid, tweight in zip(\n",
    "                posting_list.docid_postings, posting_list.tweight_postings\n",
    "            ):\n",
    "                if docid == target_docid:\n",
    "                    term_weights[tok] = tweight\n",
    "                    break\n",
    "        return term_weights\n",
    "\n",
    "    def score(self, query: str, cid: str) -> float:\n",
    "        return sum(self.get_term_weights(query=query, cid=cid).values())\n",
    "\n",
    "    def retrieve(self, query: str, topk: int = 10) -> Dict[str, float]:\n",
    "        toks = self.index.tokenize(query)\n",
    "        docid2score: Dict[int, float] = {}\n",
    "        for tok in toks:\n",
    "            if tok not in self.index.vocab:\n",
    "                continue\n",
    "            tid = self.index.vocab[tok]\n",
    "            posting_list = self.index.posting_lists[tid]\n",
    "            for docid, tweight in zip(\n",
    "                posting_list.docid_postings, posting_list.tweight_postings\n",
    "            ):\n",
    "                docid2score.setdefault(docid, 0)\n",
    "                docid2score[docid] += tweight\n",
    "        docid2score = dict(\n",
    "            sorted(docid2score.items(), key=lambda pair: pair[1], reverse=True)[:topk]\n",
    "        )\n",
    "        return {\n",
    "            self.index.collection_ids[docid]: score\n",
    "            for docid, score in docid2score.items()\n",
    "        }\n",
    "\n",
    "\n",
    "class BM25Retriever(BaseInvertedIndexRetriever):\n",
    "\n",
    "    @property\n",
    "    def index_class(self) -> Type[BM25Index]:\n",
    "        return BM25Index\n",
    "\n",
    "bm25_retriever = BM25Retriever(index_dir=\"output/bm25_index\")\n",
    "bm25_retriever.retrieve(\"What type of diseases occur when the immune system attacks normal body cells?\")"
   ]
  },
  {
   "cell_type": "markdown",
   "metadata": {
    "id": "4dq5_op63f9K"
   },
   "source": [
    "# TASK1: tune b and k1 (4 points)"
   ]
  },
  {
   "cell_type": "markdown",
   "metadata": {
    "id": "SlBx1Wpu3nOV"
   },
   "source": [
    "Tune b and k1 on the dev split of SciQ using the metric MAP@10. The evaluation function (`evalaute_map`) is provided. Record the values in `plots_k1` and `plots_b`. Do it in a greedy manner: as the influence from b is larger, please first tune b (with k1 fixed to the default value 0.4) and use the best value of b to further tune k1.\n",
    "\n",
    "$${\\displaystyle {\\text{score}}(D,Q)=\\sum _{i=1}^{n}{\\text{IDF}}(q_{i})\\cdot {\\frac {f(q_{i},D)\\cdot (k_{1}+1)}{f(q_{i},D)+k_{1}\\cdot \\left(1-b+b\\cdot {\\frac {|D|}{\\text{avgdl}}}\\right)}}}$$"
   ]
  },
  {
   "cell_type": "code",
   "execution_count": 8,
   "metadata": {
    "id": "1-HXUcE1yFJj"
   },
   "outputs": [],
   "source": [
    "from nlp4web_codebase.ir.data_loaders import Split\n",
    "import pytrec_eval\n",
    "\n",
    "\n",
    "def evaluate_map(rankings: Dict[str, Dict[str, float]], split=Split.dev) -> float:\n",
    "  metric = \"map_cut_10\"\n",
    "  qrels = sciq.get_qrels_dict(split)\n",
    "  evaluator = pytrec_eval.RelevanceEvaluator(sciq.get_qrels_dict(split), (metric,))\n",
    "  qps = evaluator.evaluate(rankings)\n",
    "  return float(np.mean([qp[metric] for qp in qps.values()]))"
   ]
  },
  {
   "cell_type": "code",
   "execution_count": 9,
   "metadata": {
    "colab": {
     "base_uri": "https://localhost:8080/"
    },
    "id": "27YWWM3i4m2b",
    "outputId": "a554b929-693a-4aa0-e2c2-8413a769b9a3"
   },
   "outputs": [],
   "source": [
    "plots_b: Dict[str, List[float]] = {\n",
    "    \"X\": [0, 0.1, 0.2, 0.3, 0.4, 0.5, 0.6, 0.7, 0.8, 0.9, 1.0],\n",
    "    \"Y\": []\n",
    "}\n",
    "plots_k1: Dict[str, List[float]] = {\n",
    "    \"X\": [0, 0.1, 0.2, 0.3, 0.4, 0.5, 0.6, 0.7, 0.8, 0.9, 1.0],\n",
    "    \"Y\": []\n",
    "}\n",
    "\n",
    "## YOU_CODE_STARTS_HERE\n",
    "## YOU_CODE_ENDS_HERE"
   ]
  },
  {
   "cell_type": "code",
   "execution_count": null,
   "metadata": {
    "id": "8jkyz5qB7ijo"
   },
   "outputs": [],
   "source": [
    "## RESULT_CHECKING_POINT\n",
    "print(plots_k1)\n",
    "print(plots_b)"
   ]
  },
  {
   "cell_type": "code",
   "execution_count": null,
   "metadata": {
    "colab": {
     "base_uri": "https://localhost:8080/",
     "height": 430
    },
    "id": "DzoLFRPJ7jC4",
    "outputId": "d0a153b4-829b-4e39-8c34-64b807f33b06"
   },
   "outputs": [
    {
     "data": {
      "image/png": "[encoded data removed]",
      "text/plain": [
       "<Figure size 640x480 with 1 Axes>"
      ]
     },
     "metadata": {},
     "output_type": "display_data"
    }
   ],
   "source": [
    "from matplotlib import pyplot as plt\n",
    "plt.plot(plots_b[\"X\"], plots_b[\"Y\"], label=\"b\")\n",
    "plt.plot(plots_k1[\"X\"], plots_k1[\"Y\"], label=\"k1\")\n",
    "plt.ylabel(\"MAP\")\n",
    "plt.legend()\n",
    "plt.grid()\n",
    "plt.show()"
   ]
  },
  {
   "cell_type": "markdown",
   "metadata": {
    "id": "ETCrAger_s5S"
   },
   "source": [
    "Let's check the effectiveness gain on test after this tuning on dev"
   ]
  },
  {
   "cell_type": "code",
   "execution_count": null,
   "metadata": {
    "colab": {
     "base_uri": "https://localhost:8080/"
    },
    "id": "YrPj7YQk_iTe",
    "outputId": "883072aa-25ea-45b7-95fe-ed1a2d6c473a"
   },
   "outputs": [
    {
     "name": "stderr",
     "output_type": "stream",
     "text": [
      "Counting: 100%|██████████| 12160/12160 [00:02<00:00, 4937.70it/s]\n",
      "Regularizing TFs: 100%|██████████| 22683/22683 [00:00<00:00, 67362.10it/s]\n"
     ]
    },
    {
     "name": "stdout",
     "output_type": "stream",
     "text": [
      "0.7849 0.7990718090889324\n"
     ]
    }
   ],
   "source": [
    "default_map = 0.7849\n",
    "best_b = plots_b[\"X\"][np.argmax(plots_b[\"Y\"])]\n",
    "best_k1 = plots_k1[\"X\"][np.argmax(plots_k1[\"Y\"])]\n",
    "bm25_index = BM25Index.build_from_documents(\n",
    "    documents=iter(sciq.corpus),\n",
    "    ndocs=12160,\n",
    "    show_progress_bar=True,\n",
    "    k1=best_k1,\n",
    "    b=best_b\n",
    ")\n",
    "bm25_index.save(\"output/bm25_index\")\n",
    "bm25_retriever = BM25Retriever(index_dir=\"output/bm25_index\")\n",
    "rankings = {}\n",
    "for query in sciq.get_split_queries(Split.test):  # note this is now on test\n",
    "  ranking = bm25_retriever.retrieve(query=query.text)\n",
    "  rankings[query.query_id] = ranking\n",
    "optimized_map = evaluate_map(rankings, split=Split.test)  # note this is now on test\n",
    "print(default_map, optimized_map)"
   ]
  },
  {
   "cell_type": "markdown",
   "metadata": {
    "id": "XY4ubnEy3mRY"
   },
   "source": [
    "# TASK2: CSC matrix and `CSCBM25Index` (12 points)"
   ]
  },
  {
   "cell_type": "markdown",
   "metadata": {
    "id": "hXjAaBpl4YzE"
   },
   "source": [
    "Recall that we use Python lists to implement posting lists, mapping term IDs to the documents in which they appear. This is inefficient due to its naive design. Actually [Compressed Sparse Column matrix](https://docs.scipy.org/doc/scipy/reference/generated/scipy.sparse.csc_matrix.html) is very suitable for storing the posting lists and can boost the efficiency."
   ]
  },
  {
   "cell_type": "markdown",
   "metadata": {
    "id": "LJs5_A5TFGf8"
   },
   "source": [
    "## TASK2.1: learn about `scipy.sparse.csc_matrix` (2 point)"
   ]
  },
  {
   "cell_type": "markdown",
   "metadata": {
    "id": "luGpN7BYHAx1"
   },
   "source": [
    "Convert the matrix \\begin{bmatrix}\n",
    "0 & 1 & 0 & 3 \\\\\n",
    "10 & 2 & 1 & 0 \\\\\n",
    "0 & 0 & 0 & 9\n",
    "\\end{bmatrix} to a `csc_matrix` by specifying `data`, `indices`, `indptr` and `shape`. **You can hardcode the required values for this task and do not need to do it automatically.**"
   ]
  },
  {
   "cell_type": "code",
   "execution_count": null,
   "metadata": {
    "id": "1u3qj8aWEqWM"
   },
   "outputs": [],
   "source": [
    "from scipy.sparse._csc import csc_matrix\n",
    "input_matrix = [[0, 1, 0, 3], [10, 2, 1, 0], [0, 0, 0, 9]]\n",
    "data = None\n",
    "indices = None\n",
    "indptr = None\n",
    "shape = None\n",
    "## YOUR_CODE_STARTS_HERE\n",
    "# Please assign the values to data, indices, indptr and shape\n",
    "## YOUR_CODE_ENDS_HERE\n",
    "output_matrix = csc_matrix((data, indices, indptr), shape=shape)"
   ]
  },
  {
   "cell_type": "code",
   "execution_count": null,
   "metadata": {
    "id": "yqzjCTmeK-hJ"
   },
   "outputs": [],
   "source": [
    "## RESULT_CHECKING_POINT\n",
    "print((output_matrix.indices + output_matrix.data).tolist())"
   ]
  },
  {
   "cell_type": "markdown",
   "metadata": {
    "id": "HGpCFiobFixb"
   },
   "source": [
    "## TASK2.2: implement `CSCBM25Index` (4 points)"
   ]
  },
  {
   "cell_type": "markdown",
   "metadata": {
    "id": "a1BGug3cQTwQ"
   },
   "source": [
    "Implement `CSCBM25Index` by completing the missing code."
   ]
  },
  {
   "cell_type": "code",
   "execution_count": null,
   "metadata": {
    "id": "XJSHVK9oLt_4"
   },
   "outputs": [],
   "source": [
    "@dataclass\n",
    "class CSCInvertedIndex:\n",
    "    posting_lists_matrix: csc_matrix  # docid -> posting_list\n",
    "    vocab: Dict[str, int]\n",
    "    cid2docid: Dict[str, int]  # collection_id -> docid\n",
    "    collection_ids: List[str]  # docid -> collection_id\n",
    "    doc_texts: Optional[List[str]] = None  # docid -> document text\n",
    "\n",
    "    def save(self, output_dir: str) -> None:\n",
    "        os.makedirs(output_dir, exist_ok=True)\n",
    "        with open(os.path.join(output_dir, \"index.pkl\"), \"wb\") as f:\n",
    "            pickle.dump(self, f)\n",
    "\n",
    "    @classmethod\n",
    "    def from_saved(cls: Type[T], saved_dir: str) -> T:\n",
    "        index = cls(\n",
    "            posting_lists_matrix=None, vocab={}, cid2docid={}, collection_ids=[], doc_texts=None\n",
    "        )\n",
    "        with open(os.path.join(saved_dir, \"index.pkl\"), \"rb\") as f:\n",
    "            index = pickle.load(f)\n",
    "        return index"
   ]
  },
  {
   "cell_type": "code",
   "execution_count": null,
   "metadata": {
    "colab": {
     "base_uri": "https://localhost:8080/"
    },
    "id": "DWLuNHKXPL1w",
    "outputId": "ec044e7d-530d-4fe0-e3be-ff8a8f5f0887"
   },
   "outputs": [
    {
     "name": "stderr",
     "output_type": "stream",
     "text": [
      "Counting: 100%|██████████| 12160/12160 [00:01<00:00, 8789.69it/s]\n",
      "Regularizing TFs: 100%|██████████| 22683/22683 [00:00<00:00, 56830.35it/s]\n"
     ]
    }
   ],
   "source": [
    "@dataclass\n",
    "class CSCBM25Index(CSCInvertedIndex):\n",
    "\n",
    "    @staticmethod\n",
    "    def tokenize(text: str) -> List[str]:\n",
    "        return simple_tokenize(text)\n",
    "\n",
    "    @staticmethod\n",
    "    def cache_term_weights(\n",
    "        posting_lists: List[PostingList],\n",
    "        total_docs: int,\n",
    "        avgdl: float,\n",
    "        dfs: List[int],\n",
    "        dls: List[int],\n",
    "        k1: float,\n",
    "        b: float,\n",
    "    ) -> csc_matrix:\n",
    "        \"\"\"Compute term weights and caching\"\"\"\n",
    "\n",
    "        ## YOUR_CODE_STARTS_HERE\n",
    "        ## YOUR_CODE_ENDS_HERE\n",
    "\n",
    "    @staticmethod\n",
    "    def calc_regularized_tf(\n",
    "        tf: int, dl: float, avgdl: float, k1: float, b: float\n",
    "    ) -> float:\n",
    "        return tf / (tf + k1 * (1 - b + b * dl / avgdl))\n",
    "\n",
    "    @staticmethod\n",
    "    def calc_idf(df: int, N: int):\n",
    "        return math.log(1 + (N - df + 0.5) / (df + 0.5))\n",
    "\n",
    "    @classmethod\n",
    "    def build_from_documents(\n",
    "        cls: Type[CSCBM25Index],\n",
    "        documents: Iterable[Document],\n",
    "        store_raw: bool = True,\n",
    "        output_dir: Optional[str] = None,\n",
    "        ndocs: Optional[int] = None,\n",
    "        show_progress_bar: bool = True,\n",
    "        k1: float = 0.9,\n",
    "        b: float = 0.4,\n",
    "    ) -> CSCBM25Index:\n",
    "        # Counting TFs, DFs, doc_lengths, etc.:\n",
    "        counting = run_counting(\n",
    "            documents=documents,\n",
    "            tokenize_fn=CSCBM25Index.tokenize,\n",
    "            store_raw=store_raw,\n",
    "            ndocs=ndocs,\n",
    "            show_progress_bar=show_progress_bar,\n",
    "        )\n",
    "\n",
    "        # Compute term weights and caching:\n",
    "        posting_lists = counting.posting_lists\n",
    "        total_docs = len(counting.cid2docid)\n",
    "        posting_lists_matrix = CSCBM25Index.cache_term_weights(\n",
    "            posting_lists=posting_lists,\n",
    "            total_docs=total_docs,\n",
    "            avgdl=counting.avgdl,\n",
    "            dfs=counting.dfs,\n",
    "            dls=counting.dls,\n",
    "            k1=k1,\n",
    "            b=b,\n",
    "        )\n",
    "\n",
    "        # Assembly and save:\n",
    "        index = CSCBM25Index(\n",
    "            posting_lists_matrix=posting_lists_matrix,\n",
    "            vocab=counting.vocab,\n",
    "            cid2docid=counting.cid2docid,\n",
    "            collection_ids=counting.collection_ids,\n",
    "            doc_texts=counting.doc_texts,\n",
    "        )\n",
    "        return index\n",
    "\n",
    "csc_bm25_index = CSCBM25Index.build_from_documents(\n",
    "    documents=iter(sciq.corpus),\n",
    "    ndocs=12160,\n",
    "    show_progress_bar=True,\n",
    "    k1=best_k1,\n",
    "    b=best_b\n",
    ")\n",
    "csc_bm25_index.save(\"output/csc_bm25_index\")"
   ]
  },
  {
   "cell_type": "code",
   "execution_count": null,
   "metadata": {
    "id": "EdEaUJQQQm9q"
   },
   "outputs": [],
   "source": [
    "## RESULT_CHECKING_POINT\n",
    "print(os.path.getsize(\"output/csc_bm25_index/index.pkl\"))"
   ]
  },
  {
   "cell_type": "markdown",
   "metadata": {
    "id": "2xdqwO6cRv3x"
   },
   "source": [
    "We can compare the size of the CSC-based index with the Python-list-based index:"
   ]
  },
  {
   "cell_type": "code",
   "execution_count": null,
   "metadata": {
    "colab": {
     "base_uri": "https://localhost:8080/"
    },
    "id": "Uj3CLhyHReo2",
    "outputId": "98ec28be-28e5-468f-9c18-efe7cc2f6e40"
   },
   "outputs": [
    {
     "name": "stdout",
     "output_type": "stream",
     "text": [
      "11624459\n"
     ]
    }
   ],
   "source": [
    "print(os.path.getsize(\"output/bm25_index/index.pkl\"))"
   ]
  },
  {
   "cell_type": "markdown",
   "metadata": {
    "id": "98oW2_M1SEAQ"
   },
   "source": [
    "## TASK2.3: implement `CSCInvertedIndexRetriever` (1 + 5 points)"
   ]
  },
  {
   "cell_type": "markdown",
   "metadata": {
    "id": "HusNZmapSMOz"
   },
   "source": [
    "Implement `CSCInvertedIndexRetriever` by completing the missing code."
   ]
  },
  {
   "cell_type": "code",
   "execution_count": null,
   "metadata": {
    "id": "_XJwg3oHQAMw"
   },
   "outputs": [],
   "source": [
    "class BaseCSCInvertedIndexRetriever(BaseRetriever):\n",
    "\n",
    "    @property\n",
    "    @abstractmethod\n",
    "    def index_class(self) -> Type[CSCInvertedIndex]:\n",
    "        pass\n",
    "\n",
    "    def __init__(self, index_dir: str) -> None:\n",
    "        self.index = self.index_class.from_saved(index_dir)\n",
    "\n",
    "    def get_term_weights(self, query: str, cid: str) -> Dict[str, float]:\n",
    "        ## YOUR_CODE_STARTS_HERE\n",
    "        ## YOUR_CODE_ENDS_HERE\n",
    "\n",
    "    def score(self, query: str, cid: str) -> float:\n",
    "        return sum(self.get_term_weights(query=query, cid=cid).values())\n",
    "\n",
    "    def retrieve(self, query: str, topk: int = 10) -> Dict[str, float]:\n",
    "        ## YOUR_CODE_STARTS_HERE\n",
    "        ## YOUR_CODE_ENDS_HERE\n",
    "\n",
    "\n",
    "class CSCBM25Retriever(BaseCSCInvertedIndexRetriever):\n",
    "\n",
    "    @property\n",
    "    def index_class(self) -> Type[CSCBM25Index]:\n",
    "        return CSCBM25Index"
   ]
  },
  {
   "cell_type": "code",
   "execution_count": null,
   "metadata": {
    "id": "NsW7dz4BSZwK"
   },
   "outputs": [],
   "source": [
    "## RESULT_CHECKING_POINT\n",
    "csc_bm25_retriever = CSCBM25Retriever(index_dir=\"output/csc_bm25_index\")\n",
    "query = \"What are the differences between immunodeficiency and autoimmune diseases?\"\n",
    "print(csc_bm25_retriever.get_term_weights(query=query, cid=\"train-1691\"))  # 1 point\n",
    "print(csc_bm25_retriever.retrieve(\"What are the differences between immunodeficiency and autoimmune diseases?\"))  # 5 points"
   ]
  },
  {
   "cell_type": "markdown",
   "metadata": {
    "id": "pqtBUOO14ZJN"
   },
   "source": [
    "# TASK3: a search-engine demo based on Huggingface space (4 points)"
   ]
  },
  {
   "cell_type": "markdown",
   "metadata": {
    "id": "nterwuqakpmt"
   },
   "source": [
    "## TASK3.1: create the gradio app (2 point)"
   ]
  },
  {
   "cell_type": "markdown",
   "metadata": {
    "id": "p11R8Nk3k2VD"
   },
   "source": [
    "Create a gradio app to demo the BM25 search engine index on SciQ. The app should have a single input variable for the query (of type `str`) and a single output variable for the returned ranking (of type `List[Hit]` in the code below)."
   ]
  },
  {
   "cell_type": "code",
   "execution_count": null,
   "metadata": {
    "colab": {
     "base_uri": "https://localhost:8080/"
    },
    "collapsed": true,
    "id": "qHganJOtV-gF",
    "jupyter": {
     "outputs_hidden": true
    },
    "outputId": "8f72c2bc-65be-477f-869d-d78df92cdabe"
   },
   "outputs": [
    {
     "name": "stdout",
     "output_type": "stream",
     "text": [
      "Requirement already satisfied: gradio in /usr/local/lib/python3.10/dist-packages (5.0.1)\n",
      "Requirement already satisfied: aiofiles<24.0,>=22.0 in /usr/local/lib/python3.10/dist-packages (from gradio) (23.2.1)\n",
      "Requirement already satisfied: anyio<5.0,>=3.0 in /usr/local/lib/python3.10/dist-packages (from gradio) (3.7.1)\n",
      "Requirement already satisfied: fastapi<1.0 in /usr/local/lib/python3.10/dist-packages (from gradio) (0.115.0)\n",
      "Requirement already satisfied: ffmpy in /usr/local/lib/python3.10/dist-packages (from gradio) (0.4.0)\n",
      "Requirement already satisfied: gradio-client==1.4.0 in /usr/local/lib/python3.10/dist-packages (from gradio) (1.4.0)\n",
      "Requirement already satisfied: httpx>=0.24.1 in /usr/local/lib/python3.10/dist-packages (from gradio) (0.27.2)\n",
      "Requirement already satisfied: huggingface-hub>=0.25.1 in /usr/local/lib/python3.10/dist-packages (from gradio) (0.25.2)\n",
      "Requirement already satisfied: jinja2<4.0 in /usr/local/lib/python3.10/dist-packages (from gradio) (3.1.4)\n",
      "Requirement already satisfied: markupsafe~=2.0 in /usr/local/lib/python3.10/dist-packages (from gradio) (2.1.5)\n",
      "Requirement already satisfied: numpy<3.0,>=1.0 in /usr/local/lib/python3.10/dist-packages (from gradio) (1.26.4)\n",
      "Requirement already satisfied: orjson~=3.0 in /usr/local/lib/python3.10/dist-packages (from gradio) (3.10.7)\n",
      "Requirement already satisfied: packaging in /usr/local/lib/python3.10/dist-packages (from gradio) (24.1)\n",
      "Requirement already satisfied: pandas<3.0,>=1.0 in /usr/local/lib/python3.10/dist-packages (from gradio) (2.2.3)\n",
      "Requirement already satisfied: pillow<11.0,>=8.0 in /usr/local/lib/python3.10/dist-packages (from gradio) (10.4.0)\n",
      "Requirement already satisfied: pydantic>=2.0 in /usr/local/lib/python3.10/dist-packages (from gradio) (2.9.2)\n",
      "Requirement already satisfied: pydub in /usr/local/lib/python3.10/dist-packages (from gradio) (0.25.1)\n",
      "Requirement already satisfied: python-multipart>=0.0.9 in /usr/local/lib/python3.10/dist-packages (from gradio) (0.0.12)\n",
      "Requirement already satisfied: pyyaml<7.0,>=5.0 in /usr/local/lib/python3.10/dist-packages (from gradio) (6.0.2)\n",
      "Requirement already satisfied: ruff>=0.2.2 in /usr/local/lib/python3.10/dist-packages (from gradio) (0.6.9)\n",
      "Requirement already satisfied: semantic-version~=2.0 in /usr/local/lib/python3.10/dist-packages (from gradio) (2.10.0)\n",
      "Requirement already satisfied: tomlkit==0.12.0 in /usr/local/lib/python3.10/dist-packages (from gradio) (0.12.0)\n",
      "Requirement already satisfied: typer<1.0,>=0.12 in /usr/local/lib/python3.10/dist-packages (from gradio) (0.12.5)\n",
      "Requirement already satisfied: typing-extensions~=4.0 in /usr/local/lib/python3.10/dist-packages (from gradio) (4.12.2)\n",
      "Requirement already satisfied: uvicorn>=0.14.0 in /usr/local/lib/python3.10/dist-packages (from gradio) (0.31.1)\n",
      "Requirement already satisfied: fsspec in /usr/local/lib/python3.10/dist-packages (from gradio-client==1.4.0->gradio) (2024.6.1)\n",
      "Requirement already satisfied: websockets<13.0,>=10.0 in /usr/local/lib/python3.10/dist-packages (from gradio-client==1.4.0->gradio) (12.0)\n",
      "Requirement already satisfied: idna>=2.8 in /usr/local/lib/python3.10/dist-packages (from anyio<5.0,>=3.0->gradio) (3.10)\n",
      "Requirement already satisfied: sniffio>=1.1 in /usr/local/lib/python3.10/dist-packages (from anyio<5.0,>=3.0->gradio) (1.3.1)\n",
      "Requirement already satisfied: exceptiongroup in /usr/local/lib/python3.10/dist-packages (from anyio<5.0,>=3.0->gradio) (1.2.2)\n",
      "Requirement already satisfied: starlette<0.39.0,>=0.37.2 in /usr/local/lib/python3.10/dist-packages (from fastapi<1.0->gradio) (0.38.6)\n",
      "Requirement already satisfied: certifi in /usr/local/lib/python3.10/dist-packages (from httpx>=0.24.1->gradio) (2024.8.30)\n",
      "Requirement already satisfied: httpcore==1.* in /usr/local/lib/python3.10/dist-packages (from httpx>=0.24.1->gradio) (1.0.6)\n",
      "Requirement already satisfied: h11<0.15,>=0.13 in /usr/local/lib/python3.10/dist-packages (from httpcore==1.*->httpx>=0.24.1->gradio) (0.14.0)\n",
      "Requirement already satisfied: filelock in /usr/local/lib/python3.10/dist-packages (from huggingface-hub>=0.25.1->gradio) (3.16.1)\n",
      "Requirement already satisfied: requests in /usr/local/lib/python3.10/dist-packages (from huggingface-hub>=0.25.1->gradio) (2.32.3)\n",
      "Requirement already satisfied: tqdm>=4.42.1 in /usr/local/lib/python3.10/dist-packages (from huggingface-hub>=0.25.1->gradio) (4.66.5)\n",
      "Requirement already satisfied: python-dateutil>=2.8.2 in /usr/local/lib/python3.10/dist-packages (from pandas<3.0,>=1.0->gradio) (2.8.2)\n",
      "Requirement already satisfied: pytz>=2020.1 in /usr/local/lib/python3.10/dist-packages (from pandas<3.0,>=1.0->gradio) (2024.2)\n",
      "Requirement already satisfied: tzdata>=2022.7 in /usr/local/lib/python3.10/dist-packages (from pandas<3.0,>=1.0->gradio) (2024.2)\n",
      "Requirement already satisfied: annotated-types>=0.6.0 in /usr/local/lib/python3.10/dist-packages (from pydantic>=2.0->gradio) (0.7.0)\n",
      "Requirement already satisfied: pydantic-core==2.23.4 in /usr/local/lib/python3.10/dist-packages (from pydantic>=2.0->gradio) (2.23.4)\n",
      "Requirement already satisfied: click>=8.0.0 in /usr/local/lib/python3.10/dist-packages (from typer<1.0,>=0.12->gradio) (8.1.7)\n",
      "Requirement already satisfied: shellingham>=1.3.0 in /usr/local/lib/python3.10/dist-packages (from typer<1.0,>=0.12->gradio) (1.5.4)\n",
      "Requirement already satisfied: rich>=10.11.0 in /usr/local/lib/python3.10/dist-packages (from typer<1.0,>=0.12->gradio) (13.9.2)\n",
      "Requirement already satisfied: six>=1.5 in /usr/local/lib/python3.10/dist-packages (from python-dateutil>=2.8.2->pandas<3.0,>=1.0->gradio) (1.16.0)\n",
      "Requirement already satisfied: markdown-it-py>=2.2.0 in /usr/local/lib/python3.10/dist-packages (from rich>=10.11.0->typer<1.0,>=0.12->gradio) (3.0.0)\n",
      "Requirement already satisfied: pygments<3.0.0,>=2.13.0 in /usr/local/lib/python3.10/dist-packages (from rich>=10.11.0->typer<1.0,>=0.12->gradio) (2.18.0)\n",
      "Requirement already satisfied: charset-normalizer<4,>=2 in /usr/local/lib/python3.10/dist-packages (from requests->huggingface-hub>=0.25.1->gradio) (3.3.2)\n",
      "Requirement already satisfied: urllib3<3,>=1.21.1 in /usr/local/lib/python3.10/dist-packages (from requests->huggingface-hub>=0.25.1->gradio) (2.2.3)\n",
      "Requirement already satisfied: mdurl~=0.1 in /usr/local/lib/python3.10/dist-packages (from markdown-it-py>=2.2.0->rich>=10.11.0->typer<1.0,>=0.12->gradio) (0.1.2)\n"
     ]
    }
   ],
   "source": [
    "!pip install gradio"
   ]
  },
  {
   "cell_type": "code",
   "execution_count": null,
   "metadata": {
    "colab": {
     "base_uri": "https://localhost:8080/",
     "height": 646
    },
    "id": "jKo3AUk9V9SU",
    "outputId": "435689d2-2cd4-48c1-e1fd-750aaec6cdc5"
   },
   "outputs": [
    {
     "name": "stdout",
     "output_type": "stream",
     "text": [
      "Setting queue=True in a Colab notebook requires sharing enabled. Setting `share=True` (you can turn this off by setting `share=False` in `launch()` explicitly).\n",
      "\n",
      "Colab notebook detected. To show errors in colab notebook, set debug=True in launch()\n",
      "* Running on public URL: https://ca3d010a662a4fa001.gradio.live\n",
      "\n",
      "This share link expires in 72 hours. For free permanent hosting and GPU upgrades, run `gradio deploy` from the terminal in the working directory to deploy to Hugging Face Spaces (https://huggingface.co/spaces)\n"
     ]
    },
    {
     "data": {
      "text/html": [
       "<div><iframe src=\"https://ca3d010a662a4fa001.gradio.live\" width=\"100%\" height=\"500\" allow=\"autoplay; camera; microphone; clipboard-read; clipboard-write;\" frameborder=\"0\" allowfullscreen></iframe></div>"
      ],
      "text/plain": [
       "<IPython.core.display.HTML object>"
      ]
     },
     "metadata": {},
     "output_type": "display_data"
    },
    {
     "data": {
      "text/plain": []
     },
     "execution_count": 28,
     "metadata": {},
     "output_type": "execute_result"
    }
   ],
   "source": [
    "import gradio as gr\n",
    "from typing import TypedDict\n",
    "\n",
    "class Hit(TypedDict):\n",
    "  cid: str\n",
    "  score: float\n",
    "  text: str\n",
    "\n",
    "demo: Optional[gr.Interface] = None  # Assign your gradio demo to this variable\n",
    "return_type = List[Hit]\n",
    "\n",
    "## YOUR_CODE_STARTS_HERE\n",
    "## YOUR_CODE_ENDS_HERE\n",
    "demo.launch()"
   ]
  },
  {
   "cell_type": "code",
   "execution_count": null,
   "metadata": {
    "id": "Wj4yCDXQea1b"
   },
   "outputs": [],
   "source": [
    "## RESULT_CHECKING_POINT\n",
    "import requests\n",
    "import json\n",
    "\n",
    "headers = {\"Content-Type\": \"application/json\"}\n",
    "data = {\"data\": [\"What are the differences between immunodeficiency and autoimmune diseases?\"]}\n",
    "response = requests.post(f\"{demo.local_api_url.strip('/')}/call/predict\", headers=headers, data=json.dumps(data))\n",
    "event_id = response.json()[\"event_id\"]\n",
    "response = requests.get(f\"{demo.local_api_url.strip('/')}/call/predict/{event_id}\", stream=True)\n",
    "lines = list(response.iter_lines())\n",
    "print(eval(json.loads(lines[1].decode(\"UTF-8\").replace(\"data:\", \"\"))[0]))"
   ]
  },
  {
   "cell_type": "markdown",
   "metadata": {
    "id": "WtQd5hwtlqqA"
   },
   "source": [
    "## TASK3.2: upload it to Huggingface Space (2 point)"
   ]
  },
  {
   "cell_type": "markdown",
   "metadata": {
    "id": "TtG6Be_LpUPN"
   },
   "source": [
    "Upload your gradio app to Huggingface Space. Put your URL to the Space app in the variable `hf_space_url`. You can get this URL from:\n",
    "\n",
    "*Your Space page* -> *\"three dots\" on the top right* -> \"embedd this space\" -> \"Direct URL\""
   ]
  },
  {
   "cell_type": "code",
   "execution_count": null,
   "metadata": {
    "id": "PFMTi5f2pNna"
   },
   "outputs": [],
   "source": [
    "hf_space_url: Optional[str] = None  # Store your created Huggingface Space URL in this variable\n",
    "## YOUR_CODE_STARTS_HERE\n",
    "## YOUR_CODE_ENDS_HERE\n",
    "\n",
    "## RESULT_CHECKING_POINT\n",
    "import requests\n",
    "import json\n",
    "\n",
    "print(hf_space_url)\n",
    "headers = {\"Content-Type\": \"application/json\"}\n",
    "data = {\"data\": [\"What are the differences between immunodeficiency and autoimmune diseases?\"]}\n",
    "response = requests.post(f\"{hf_space_url.strip('/')}/call/predict\", headers=headers, data=json.dumps(data))\n",
    "event_id = response.json()[\"event_id\"]\n",
    "response = requests.get(f\"{hf_space_url.strip('/')}/call/predict/{event_id}\", stream=True)\n",
    "lines = list(response.iter_lines())\n",
    "print(eval(json.loads(lines[1].decode(\"UTF-8\").replace(\"data:\", \"\"))[0]))"
   ]
  },
  {
   "cell_type": "code",
   "execution_count": null,
   "metadata": {
    "id": "GMfgMiYDqCVp"
   },
   "outputs": [],
   "source": []
  }
 ],
 "metadata": {
  "colab": {
   "collapsed_sections": [
    "hH6-uB8T4zAP"
   ],
   "include_colab_link": true,
   "provenance": [],
   "toc_visible": true
  },
  "kernelspec": {
   "display_name": "Python 3 (ipykernel)",
   "language": "python",
   "name": "python3"
  },
  "language_info": {
   "codemirror_mode": {
    "name": "ipython",
    "version": 3
   },
   "file_extension": ".py",
   "mimetype": "text/x-python",
   "name": "python",
   "nbconvert_exporter": "python",
   "pygments_lexer": "ipython3",
   "version": "3.10.12"
  }
 },
 "nbformat": 4,
 "nbformat_minor": 4
}
